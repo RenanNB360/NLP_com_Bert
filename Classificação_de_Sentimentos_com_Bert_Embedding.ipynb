{
  "nbformat": 4,
  "nbformat_minor": 0,
  "metadata": {
    "colab": {
      "provenance": [],
      "gpuType": "T4",
      "authorship_tag": "ABX9TyOcb8RkaMRCnfKGw8FBV32e",
      "include_colab_link": true
    },
    "kernelspec": {
      "name": "python3",
      "display_name": "Python 3"
    },
    "language_info": {
      "name": "python"
    },
    "accelerator": "GPU"
  },
  "cells": [
    {
      "cell_type": "markdown",
      "metadata": {
        "id": "view-in-github",
        "colab_type": "text"
      },
      "source": [
        "<a href=\"https://colab.research.google.com/github/RenanNB360/NLP_com_Bert/blob/main/Classifica%C3%A7%C3%A3o_de_Sentimentos_com_Bert_Embedding.ipynb\" target=\"_parent\"><img src=\"https://colab.research.google.com/assets/colab-badge.svg\" alt=\"Open In Colab\"/></a>"
      ]
    },
    {
      "cell_type": "markdown",
      "source": [
        "# Etapa 1: Importações"
      ],
      "metadata": {
        "id": "5_1i4nP7WxO6"
      }
    },
    {
      "cell_type": "code",
      "execution_count": 1,
      "metadata": {
        "id": "5VpKAWO5Wh9-"
      },
      "outputs": [],
      "source": [
        "import numpy as np\n",
        "import math\n",
        "import re\n",
        "import pandas as pd\n",
        "from bs4 import BeautifulSoup\n",
        "import random\n",
        "from google.colab import drive"
      ]
    },
    {
      "cell_type": "code",
      "source": [
        "!pip install bert-for-tf2"
      ],
      "metadata": {
        "colab": {
          "base_uri": "https://localhost:8080/"
        },
        "id": "jPYXgN96XCl2",
        "outputId": "30cacd4f-306f-4931-b3ea-040096525a30"
      },
      "execution_count": 2,
      "outputs": [
        {
          "output_type": "stream",
          "name": "stdout",
          "text": [
            "Collecting bert-for-tf2\n",
            "  Downloading bert-for-tf2-0.14.9.tar.gz (41 kB)\n",
            "\u001b[?25l     \u001b[90m━━━━━━━━━━━━━━━━━━━━━━━━━━━━━━━━━━━━━━━━\u001b[0m \u001b[32m0.0/41.2 kB\u001b[0m \u001b[31m?\u001b[0m eta \u001b[36m-:--:--\u001b[0m\r\u001b[2K     \u001b[90m━━━━━━━━━━━━━━━━━━━━━━━━━━━━━━━━━━━━━━━━\u001b[0m \u001b[32m41.2/41.2 kB\u001b[0m \u001b[31m1.8 MB/s\u001b[0m eta \u001b[36m0:00:00\u001b[0m\n",
            "\u001b[?25h  Preparing metadata (setup.py) ... \u001b[?25l\u001b[?25hdone\n",
            "Collecting py-params>=0.9.6 (from bert-for-tf2)\n",
            "  Downloading py-params-0.10.2.tar.gz (7.4 kB)\n",
            "  Preparing metadata (setup.py) ... \u001b[?25l\u001b[?25hdone\n",
            "Collecting params-flow>=0.8.0 (from bert-for-tf2)\n",
            "  Downloading params-flow-0.8.2.tar.gz (22 kB)\n",
            "  Preparing metadata (setup.py) ... \u001b[?25l\u001b[?25hdone\n",
            "Requirement already satisfied: numpy in /usr/local/lib/python3.10/dist-packages (from params-flow>=0.8.0->bert-for-tf2) (1.23.5)\n",
            "Requirement already satisfied: tqdm in /usr/local/lib/python3.10/dist-packages (from params-flow>=0.8.0->bert-for-tf2) (4.66.1)\n",
            "Building wheels for collected packages: bert-for-tf2, params-flow, py-params\n",
            "  Building wheel for bert-for-tf2 (setup.py) ... \u001b[?25l\u001b[?25hdone\n",
            "  Created wheel for bert-for-tf2: filename=bert_for_tf2-0.14.9-py3-none-any.whl size=30509 sha256=00d35dc0ab8efec9b0b92bff9083ed22562eea9979af36052d6745e2a620ef62\n",
            "  Stored in directory: /root/.cache/pip/wheels/d8/da/50/126d7b8416d9a0e6bf876935c2219a71e72a6529c25e150c56\n",
            "  Building wheel for params-flow (setup.py) ... \u001b[?25l\u001b[?25hdone\n",
            "  Created wheel for params-flow: filename=params_flow-0.8.2-py3-none-any.whl size=19455 sha256=d1166bff65dbec8ea446f7d05423f8ab35b74577d37efe961994fe59c87da924\n",
            "  Stored in directory: /root/.cache/pip/wheels/97/a8/d0/f7419404174976a2686bb98b5c30df01cc71445415f32db9e6\n",
            "  Building wheel for py-params (setup.py) ... \u001b[?25l\u001b[?25hdone\n",
            "  Created wheel for py-params: filename=py_params-0.10.2-py3-none-any.whl size=7891 sha256=386e102ca19f3fb4b26f4089b0e0a2fa922bf8d282fb11647326fe1141c63e54\n",
            "  Stored in directory: /root/.cache/pip/wheels/69/c8/b3/92666cff9fb312bc3473eaa6b396695b89a7b3e31e90876819\n",
            "Successfully built bert-for-tf2 params-flow py-params\n",
            "Installing collected packages: py-params, params-flow, bert-for-tf2\n",
            "Successfully installed bert-for-tf2-0.14.9 params-flow-0.8.2 py-params-0.10.2\n"
          ]
        }
      ]
    },
    {
      "cell_type": "code",
      "source": [
        "!pip install sentencepiece"
      ],
      "metadata": {
        "colab": {
          "base_uri": "https://localhost:8080/"
        },
        "id": "kZT8t7uuXGbu",
        "outputId": "1d1241e3-fed0-476c-84f5-e8cb10d70903"
      },
      "execution_count": 3,
      "outputs": [
        {
          "output_type": "stream",
          "name": "stdout",
          "text": [
            "Collecting sentencepiece\n",
            "  Downloading sentencepiece-0.1.99-cp310-cp310-manylinux_2_17_x86_64.manylinux2014_x86_64.whl (1.3 MB)\n",
            "\u001b[2K     \u001b[90m━━━━━━━━━━━━━━━━━━━━━━━━━━━━━━━━━━━━━━━━\u001b[0m \u001b[32m1.3/1.3 MB\u001b[0m \u001b[31m11.4 MB/s\u001b[0m eta \u001b[36m0:00:00\u001b[0m\n",
            "\u001b[?25hInstalling collected packages: sentencepiece\n",
            "Successfully installed sentencepiece-0.1.99\n"
          ]
        }
      ]
    },
    {
      "cell_type": "code",
      "source": [
        "%tensorflow_version 2.x\n",
        "import tensorflow as tf\n",
        "import tensorflow_hub as hub\n",
        "from tensorflow.keras import layers\n",
        "import bert\n",
        "tf.__version__"
      ],
      "metadata": {
        "colab": {
          "base_uri": "https://localhost:8080/",
          "height": 53
        },
        "id": "JU5gUo_tXLPi",
        "outputId": "1dfba22e-7292-44ce-a79d-daf1061830ca"
      },
      "execution_count": 4,
      "outputs": [
        {
          "output_type": "stream",
          "name": "stdout",
          "text": [
            "Colab only includes TensorFlow 2.x; %tensorflow_version has no effect.\n"
          ]
        },
        {
          "output_type": "execute_result",
          "data": {
            "text/plain": [
              "'2.14.0'"
            ],
            "application/vnd.google.colaboratory.intrinsic+json": {
              "type": "string"
            }
          },
          "metadata": {},
          "execution_count": 4
        }
      ]
    },
    {
      "cell_type": "markdown",
      "source": [
        "# Etapa 2: Pré-processamento"
      ],
      "metadata": {
        "id": "t2-rCjqHXilg"
      }
    },
    {
      "cell_type": "markdown",
      "source": [
        "## Carregamento dos arquivos"
      ],
      "metadata": {
        "id": "JUdkBaxeYIw-"
      }
    },
    {
      "cell_type": "code",
      "source": [
        "drive.mount('/content/drive')"
      ],
      "metadata": {
        "colab": {
          "base_uri": "https://localhost:8080/"
        },
        "id": "bFBp1NPPXgs-",
        "outputId": "591e05b9-a703-4ac5-8398-eaa0f9a4a588"
      },
      "execution_count": 6,
      "outputs": [
        {
          "output_type": "stream",
          "name": "stdout",
          "text": [
            "Mounted at /content/drive\n"
          ]
        }
      ]
    },
    {
      "cell_type": "code",
      "source": [
        "cols = ['sentiment', 'id', 'date', 'query', 'user', 'text']\n",
        "data = pd.read_csv('/content/drive/MyDrive/NLP/Bert/arquivo/training.1600000.processed.noemoticon.csv',\n",
        "                   header = None,\n",
        "                   names = cols,\n",
        "                   engine = 'python',\n",
        "                   encoding = 'latin1')"
      ],
      "metadata": {
        "id": "b_8jc4cTYaQr"
      },
      "execution_count": 7,
      "outputs": []
    },
    {
      "cell_type": "code",
      "source": [
        "data.drop(['id', 'date', 'query', 'user'], axis = 1, inplace = True)"
      ],
      "metadata": {
        "id": "z4AuW64YZDVM"
      },
      "execution_count": 8,
      "outputs": []
    },
    {
      "cell_type": "code",
      "source": [
        "data.shape"
      ],
      "metadata": {
        "colab": {
          "base_uri": "https://localhost:8080/"
        },
        "id": "CnO86WcbZP_d",
        "outputId": "0bb991dc-62ad-4b33-d46c-5da6be9d4b04"
      },
      "execution_count": 9,
      "outputs": [
        {
          "output_type": "execute_result",
          "data": {
            "text/plain": [
              "(1600000, 2)"
            ]
          },
          "metadata": {},
          "execution_count": 9
        }
      ]
    },
    {
      "cell_type": "code",
      "source": [
        "data.head()"
      ],
      "metadata": {
        "colab": {
          "base_uri": "https://localhost:8080/",
          "height": 206
        },
        "id": "4goKLHipZRSe",
        "outputId": "4fe16f98-662f-4068-eb89-6a00600aeedf"
      },
      "execution_count": 10,
      "outputs": [
        {
          "output_type": "execute_result",
          "data": {
            "text/plain": [
              "   sentiment                                               text\n",
              "0          0  @switchfoot http://twitpic.com/2y1zl - Awww, t...\n",
              "1          0  is upset that he can't update his Facebook by ...\n",
              "2          0  @Kenichan I dived many times for the ball. Man...\n",
              "3          0    my whole body feels itchy and like its on fire \n",
              "4          0  @nationwideclass no, it's not behaving at all...."
            ],
            "text/html": [
              "\n",
              "  <div id=\"df-acdcfa94-408d-4ea3-a877-34c3f4e3e338\" class=\"colab-df-container\">\n",
              "    <div>\n",
              "<style scoped>\n",
              "    .dataframe tbody tr th:only-of-type {\n",
              "        vertical-align: middle;\n",
              "    }\n",
              "\n",
              "    .dataframe tbody tr th {\n",
              "        vertical-align: top;\n",
              "    }\n",
              "\n",
              "    .dataframe thead th {\n",
              "        text-align: right;\n",
              "    }\n",
              "</style>\n",
              "<table border=\"1\" class=\"dataframe\">\n",
              "  <thead>\n",
              "    <tr style=\"text-align: right;\">\n",
              "      <th></th>\n",
              "      <th>sentiment</th>\n",
              "      <th>text</th>\n",
              "    </tr>\n",
              "  </thead>\n",
              "  <tbody>\n",
              "    <tr>\n",
              "      <th>0</th>\n",
              "      <td>0</td>\n",
              "      <td>@switchfoot http://twitpic.com/2y1zl - Awww, t...</td>\n",
              "    </tr>\n",
              "    <tr>\n",
              "      <th>1</th>\n",
              "      <td>0</td>\n",
              "      <td>is upset that he can't update his Facebook by ...</td>\n",
              "    </tr>\n",
              "    <tr>\n",
              "      <th>2</th>\n",
              "      <td>0</td>\n",
              "      <td>@Kenichan I dived many times for the ball. Man...</td>\n",
              "    </tr>\n",
              "    <tr>\n",
              "      <th>3</th>\n",
              "      <td>0</td>\n",
              "      <td>my whole body feels itchy and like its on fire</td>\n",
              "    </tr>\n",
              "    <tr>\n",
              "      <th>4</th>\n",
              "      <td>0</td>\n",
              "      <td>@nationwideclass no, it's not behaving at all....</td>\n",
              "    </tr>\n",
              "  </tbody>\n",
              "</table>\n",
              "</div>\n",
              "    <div class=\"colab-df-buttons\">\n",
              "\n",
              "  <div class=\"colab-df-container\">\n",
              "    <button class=\"colab-df-convert\" onclick=\"convertToInteractive('df-acdcfa94-408d-4ea3-a877-34c3f4e3e338')\"\n",
              "            title=\"Convert this dataframe to an interactive table.\"\n",
              "            style=\"display:none;\">\n",
              "\n",
              "  <svg xmlns=\"http://www.w3.org/2000/svg\" height=\"24px\" viewBox=\"0 -960 960 960\">\n",
              "    <path d=\"M120-120v-720h720v720H120Zm60-500h600v-160H180v160Zm220 220h160v-160H400v160Zm0 220h160v-160H400v160ZM180-400h160v-160H180v160Zm440 0h160v-160H620v160ZM180-180h160v-160H180v160Zm440 0h160v-160H620v160Z\"/>\n",
              "  </svg>\n",
              "    </button>\n",
              "\n",
              "  <style>\n",
              "    .colab-df-container {\n",
              "      display:flex;\n",
              "      gap: 12px;\n",
              "    }\n",
              "\n",
              "    .colab-df-convert {\n",
              "      background-color: #E8F0FE;\n",
              "      border: none;\n",
              "      border-radius: 50%;\n",
              "      cursor: pointer;\n",
              "      display: none;\n",
              "      fill: #1967D2;\n",
              "      height: 32px;\n",
              "      padding: 0 0 0 0;\n",
              "      width: 32px;\n",
              "    }\n",
              "\n",
              "    .colab-df-convert:hover {\n",
              "      background-color: #E2EBFA;\n",
              "      box-shadow: 0px 1px 2px rgba(60, 64, 67, 0.3), 0px 1px 3px 1px rgba(60, 64, 67, 0.15);\n",
              "      fill: #174EA6;\n",
              "    }\n",
              "\n",
              "    .colab-df-buttons div {\n",
              "      margin-bottom: 4px;\n",
              "    }\n",
              "\n",
              "    [theme=dark] .colab-df-convert {\n",
              "      background-color: #3B4455;\n",
              "      fill: #D2E3FC;\n",
              "    }\n",
              "\n",
              "    [theme=dark] .colab-df-convert:hover {\n",
              "      background-color: #434B5C;\n",
              "      box-shadow: 0px 1px 3px 1px rgba(0, 0, 0, 0.15);\n",
              "      filter: drop-shadow(0px 1px 2px rgba(0, 0, 0, 0.3));\n",
              "      fill: #FFFFFF;\n",
              "    }\n",
              "  </style>\n",
              "\n",
              "    <script>\n",
              "      const buttonEl =\n",
              "        document.querySelector('#df-acdcfa94-408d-4ea3-a877-34c3f4e3e338 button.colab-df-convert');\n",
              "      buttonEl.style.display =\n",
              "        google.colab.kernel.accessAllowed ? 'block' : 'none';\n",
              "\n",
              "      async function convertToInteractive(key) {\n",
              "        const element = document.querySelector('#df-acdcfa94-408d-4ea3-a877-34c3f4e3e338');\n",
              "        const dataTable =\n",
              "          await google.colab.kernel.invokeFunction('convertToInteractive',\n",
              "                                                    [key], {});\n",
              "        if (!dataTable) return;\n",
              "\n",
              "        const docLinkHtml = 'Like what you see? Visit the ' +\n",
              "          '<a target=\"_blank\" href=https://colab.research.google.com/notebooks/data_table.ipynb>data table notebook</a>'\n",
              "          + ' to learn more about interactive tables.';\n",
              "        element.innerHTML = '';\n",
              "        dataTable['output_type'] = 'display_data';\n",
              "        await google.colab.output.renderOutput(dataTable, element);\n",
              "        const docLink = document.createElement('div');\n",
              "        docLink.innerHTML = docLinkHtml;\n",
              "        element.appendChild(docLink);\n",
              "      }\n",
              "    </script>\n",
              "  </div>\n",
              "\n",
              "\n",
              "<div id=\"df-877266bf-3ea6-467a-88b2-7bdd31f0f6c3\">\n",
              "  <button class=\"colab-df-quickchart\" onclick=\"quickchart('df-877266bf-3ea6-467a-88b2-7bdd31f0f6c3')\"\n",
              "            title=\"Suggest charts\"\n",
              "            style=\"display:none;\">\n",
              "\n",
              "<svg xmlns=\"http://www.w3.org/2000/svg\" height=\"24px\"viewBox=\"0 0 24 24\"\n",
              "     width=\"24px\">\n",
              "    <g>\n",
              "        <path d=\"M19 3H5c-1.1 0-2 .9-2 2v14c0 1.1.9 2 2 2h14c1.1 0 2-.9 2-2V5c0-1.1-.9-2-2-2zM9 17H7v-7h2v7zm4 0h-2V7h2v10zm4 0h-2v-4h2v4z\"/>\n",
              "    </g>\n",
              "</svg>\n",
              "  </button>\n",
              "\n",
              "<style>\n",
              "  .colab-df-quickchart {\n",
              "      --bg-color: #E8F0FE;\n",
              "      --fill-color: #1967D2;\n",
              "      --hover-bg-color: #E2EBFA;\n",
              "      --hover-fill-color: #174EA6;\n",
              "      --disabled-fill-color: #AAA;\n",
              "      --disabled-bg-color: #DDD;\n",
              "  }\n",
              "\n",
              "  [theme=dark] .colab-df-quickchart {\n",
              "      --bg-color: #3B4455;\n",
              "      --fill-color: #D2E3FC;\n",
              "      --hover-bg-color: #434B5C;\n",
              "      --hover-fill-color: #FFFFFF;\n",
              "      --disabled-bg-color: #3B4455;\n",
              "      --disabled-fill-color: #666;\n",
              "  }\n",
              "\n",
              "  .colab-df-quickchart {\n",
              "    background-color: var(--bg-color);\n",
              "    border: none;\n",
              "    border-radius: 50%;\n",
              "    cursor: pointer;\n",
              "    display: none;\n",
              "    fill: var(--fill-color);\n",
              "    height: 32px;\n",
              "    padding: 0;\n",
              "    width: 32px;\n",
              "  }\n",
              "\n",
              "  .colab-df-quickchart:hover {\n",
              "    background-color: var(--hover-bg-color);\n",
              "    box-shadow: 0 1px 2px rgba(60, 64, 67, 0.3), 0 1px 3px 1px rgba(60, 64, 67, 0.15);\n",
              "    fill: var(--button-hover-fill-color);\n",
              "  }\n",
              "\n",
              "  .colab-df-quickchart-complete:disabled,\n",
              "  .colab-df-quickchart-complete:disabled:hover {\n",
              "    background-color: var(--disabled-bg-color);\n",
              "    fill: var(--disabled-fill-color);\n",
              "    box-shadow: none;\n",
              "  }\n",
              "\n",
              "  .colab-df-spinner {\n",
              "    border: 2px solid var(--fill-color);\n",
              "    border-color: transparent;\n",
              "    border-bottom-color: var(--fill-color);\n",
              "    animation:\n",
              "      spin 1s steps(1) infinite;\n",
              "  }\n",
              "\n",
              "  @keyframes spin {\n",
              "    0% {\n",
              "      border-color: transparent;\n",
              "      border-bottom-color: var(--fill-color);\n",
              "      border-left-color: var(--fill-color);\n",
              "    }\n",
              "    20% {\n",
              "      border-color: transparent;\n",
              "      border-left-color: var(--fill-color);\n",
              "      border-top-color: var(--fill-color);\n",
              "    }\n",
              "    30% {\n",
              "      border-color: transparent;\n",
              "      border-left-color: var(--fill-color);\n",
              "      border-top-color: var(--fill-color);\n",
              "      border-right-color: var(--fill-color);\n",
              "    }\n",
              "    40% {\n",
              "      border-color: transparent;\n",
              "      border-right-color: var(--fill-color);\n",
              "      border-top-color: var(--fill-color);\n",
              "    }\n",
              "    60% {\n",
              "      border-color: transparent;\n",
              "      border-right-color: var(--fill-color);\n",
              "    }\n",
              "    80% {\n",
              "      border-color: transparent;\n",
              "      border-right-color: var(--fill-color);\n",
              "      border-bottom-color: var(--fill-color);\n",
              "    }\n",
              "    90% {\n",
              "      border-color: transparent;\n",
              "      border-bottom-color: var(--fill-color);\n",
              "    }\n",
              "  }\n",
              "</style>\n",
              "\n",
              "  <script>\n",
              "    async function quickchart(key) {\n",
              "      const quickchartButtonEl =\n",
              "        document.querySelector('#' + key + ' button');\n",
              "      quickchartButtonEl.disabled = true;  // To prevent multiple clicks.\n",
              "      quickchartButtonEl.classList.add('colab-df-spinner');\n",
              "      try {\n",
              "        const charts = await google.colab.kernel.invokeFunction(\n",
              "            'suggestCharts', [key], {});\n",
              "      } catch (error) {\n",
              "        console.error('Error during call to suggestCharts:', error);\n",
              "      }\n",
              "      quickchartButtonEl.classList.remove('colab-df-spinner');\n",
              "      quickchartButtonEl.classList.add('colab-df-quickchart-complete');\n",
              "    }\n",
              "    (() => {\n",
              "      let quickchartButtonEl =\n",
              "        document.querySelector('#df-877266bf-3ea6-467a-88b2-7bdd31f0f6c3 button');\n",
              "      quickchartButtonEl.style.display =\n",
              "        google.colab.kernel.accessAllowed ? 'block' : 'none';\n",
              "    })();\n",
              "  </script>\n",
              "</div>\n",
              "    </div>\n",
              "  </div>\n"
            ]
          },
          "metadata": {},
          "execution_count": 10
        }
      ]
    },
    {
      "cell_type": "markdown",
      "source": [
        "## Pré-processamento"
      ],
      "metadata": {
        "id": "t6PSET3UZZ-j"
      }
    },
    {
      "cell_type": "markdown",
      "source": [
        "### Limpeza"
      ],
      "metadata": {
        "id": "PCUnAO9sZeaY"
      }
    },
    {
      "cell_type": "code",
      "source": [
        "def clean_tweet(tweet):\n",
        "  tweet = BeautifulSoup(tweet, 'lxml').get_text()\n",
        "  tweet = re.sub(r'@[A-Za-z0-9]+', ' ', tweet)\n",
        "  tweet = re.sub(r'https?://[A-Za-z0-9./]', ' ', tweet)\n",
        "  tweet = re.sub(r\"[^a-zA-Z.!?']\", ' ', tweet)\n",
        "  tweet = re.sub(r' +', ' ', tweet)\n",
        "  return tweet"
      ],
      "metadata": {
        "id": "SUDY0XB4ZXU1"
      },
      "execution_count": 11,
      "outputs": []
    },
    {
      "cell_type": "code",
      "source": [
        "data_clean = [clean_tweet(tweet) for tweet in data.text]"
      ],
      "metadata": {
        "colab": {
          "base_uri": "https://localhost:8080/"
        },
        "id": "H1RU_A6Yaa8T",
        "outputId": "a55086ab-769e-4299-d47d-97b50613f75e"
      },
      "execution_count": 12,
      "outputs": [
        {
          "output_type": "stream",
          "name": "stderr",
          "text": [
            "<ipython-input-11-d7c6d529435d>:2: MarkupResemblesLocatorWarning: The input looks more like a filename than markup. You may want to open this file and pass the filehandle into Beautiful Soup.\n",
            "  tweet = BeautifulSoup(tweet, 'lxml').get_text()\n"
          ]
        }
      ]
    },
    {
      "cell_type": "code",
      "source": [
        "data_labels = data.sentiment.values\n",
        "data_labels[data_labels == 4] = 1"
      ],
      "metadata": {
        "id": "-8XB_CB-aiU7"
      },
      "execution_count": 13,
      "outputs": []
    },
    {
      "cell_type": "markdown",
      "source": [
        "### Tokenização"
      ],
      "metadata": {
        "id": "GOGN4fyNaxtG"
      }
    },
    {
      "cell_type": "code",
      "source": [
        "FullTokenizer = bert.bert_tokenization.FullTokenizer\n",
        "bert_layer = hub.KerasLayer('https://tfhub.dev/tensorflow/bert_en_uncased_L-12_H-768_A-12/1',\n",
        "                            trainable = False)\n",
        "vocab_file = bert_layer.resolved_object.vocab_file.asset_path.numpy()\n",
        "do_lower_case = bert_layer.resolved_object.do_lower_case.numpy()\n",
        "tokenizer = FullTokenizer(vocab_file, do_lower_case)"
      ],
      "metadata": {
        "id": "kBngbviHavEA"
      },
      "execution_count": 15,
      "outputs": []
    },
    {
      "cell_type": "code",
      "source": [
        "def encode_sentence(sent):\n",
        "  return ['[CLS]'] + tokenizer.tokenize(sent) + ['[SEP]']"
      ],
      "metadata": {
        "id": "H0PJCJ6TcYkQ"
      },
      "execution_count": 16,
      "outputs": []
    },
    {
      "cell_type": "code",
      "source": [
        "encode_sentence('My dog likes strawberries.')"
      ],
      "metadata": {
        "colab": {
          "base_uri": "https://localhost:8080/"
        },
        "id": "gFAcgVz6cmp6",
        "outputId": "eb8b169a-f002-4c51-cca6-fa2af38cac0f"
      },
      "execution_count": 17,
      "outputs": [
        {
          "output_type": "execute_result",
          "data": {
            "text/plain": [
              "['[CLS]', 'my', 'dog', 'likes', 'straw', '##berries', '.', '[SEP]']"
            ]
          },
          "metadata": {},
          "execution_count": 17
        }
      ]
    },
    {
      "cell_type": "code",
      "source": [
        "data_inputs = [encode_sentence(sentence) for sentence in data_clean]"
      ],
      "metadata": {
        "id": "C8W2EULEct0k"
      },
      "execution_count": 18,
      "outputs": []
    },
    {
      "cell_type": "code",
      "source": [
        "print(data_inputs[0:2])"
      ],
      "metadata": {
        "colab": {
          "base_uri": "https://localhost:8080/"
        },
        "id": "WPl1QO24c28W",
        "outputId": "e87d64ea-56a6-4ce9-9fd5-35c014809569"
      },
      "execution_count": 19,
      "outputs": [
        {
          "output_type": "stream",
          "name": "stdout",
          "text": [
            "[['[CLS]', 'wit', '##pic', '.', 'com', 'y', 'z', '##l', 'aw', '##w', '##w', 'that', \"'\", 's', 'a', 'bum', '##mer', '.', 'you', 'should', '##a', 'got', 'david', 'carr', 'of', 'third', 'day', 'to', 'do', 'it', '.', 'd', '[SEP]'], ['[CLS]', 'is', 'upset', 'that', 'he', 'can', \"'\", 't', 'update', 'his', 'facebook', 'by', 'text', '##ing', 'it', '.', '.', '.', 'and', 'might', 'cry', 'as', 'a', 'result', 'school', 'today', 'also', '.', 'blah', '!', '[SEP]']]\n"
          ]
        }
      ]
    },
    {
      "cell_type": "markdown",
      "source": [
        "### Criação da base de dados"
      ],
      "metadata": {
        "id": "oZlPICWqdGg2"
      }
    },
    {
      "cell_type": "code",
      "source": [
        "def get_ids(tokens):\n",
        "  return tokenizer.convert_tokens_to_ids(tokens)"
      ],
      "metadata": {
        "id": "LaYB5E2nfYlL"
      },
      "execution_count": 23,
      "outputs": []
    },
    {
      "cell_type": "code",
      "source": [
        "get_ids(tokenizer.tokenize(\"My dog likes strawberries.\"))"
      ],
      "metadata": {
        "colab": {
          "base_uri": "https://localhost:8080/"
        },
        "id": "zn0VGZMOh8lu",
        "outputId": "415e5e5e-b128-4eae-fb06-08d263112841"
      },
      "execution_count": 26,
      "outputs": [
        {
          "output_type": "execute_result",
          "data": {
            "text/plain": [
              "[2026, 3899, 7777, 13137, 20968, 1012]"
            ]
          },
          "metadata": {},
          "execution_count": 26
        }
      ]
    },
    {
      "cell_type": "code",
      "source": [
        "np.char.not_equal(\"[PAD]\", \"[PAD]\")"
      ],
      "metadata": {
        "colab": {
          "base_uri": "https://localhost:8080/"
        },
        "id": "9knyVGOnh-kl",
        "outputId": "e2871445-f7fa-44cf-a5f2-dca894fa119d"
      },
      "execution_count": 27,
      "outputs": [
        {
          "output_type": "execute_result",
          "data": {
            "text/plain": [
              "array(False)"
            ]
          },
          "metadata": {},
          "execution_count": 27
        }
      ]
    },
    {
      "cell_type": "code",
      "source": [
        "def get_mask(tokens):\n",
        "  return np.char.not_equal(tokens, '[PAD]').astype(int)"
      ],
      "metadata": {
        "id": "-q62SaMKfoG2"
      },
      "execution_count": 24,
      "outputs": []
    },
    {
      "cell_type": "code",
      "source": [
        "get_mask(tokenizer.tokenize(\"My dog likes strawberries.\"))"
      ],
      "metadata": {
        "colab": {
          "base_uri": "https://localhost:8080/"
        },
        "id": "Qm2VobWOiD-Y",
        "outputId": "936c2545-5e1a-4833-d5b5-bfef61460db3"
      },
      "execution_count": 28,
      "outputs": [
        {
          "output_type": "execute_result",
          "data": {
            "text/plain": [
              "array([1, 1, 1, 1, 1, 1])"
            ]
          },
          "metadata": {},
          "execution_count": 28
        }
      ]
    },
    {
      "cell_type": "code",
      "source": [
        "def get_segments(tokens):\n",
        "  seg_ids = []\n",
        "  current_seg_id = 0\n",
        "  for tok in tokens:\n",
        "    seg_ids.append(current_seg_id)\n",
        "    if tok == '[SEP]':\n",
        "      current_seg_id = 1 - current_seg_id\n",
        "  return seg_ids"
      ],
      "metadata": {
        "id": "0hh_4IdRgoJY"
      },
      "execution_count": 25,
      "outputs": []
    },
    {
      "cell_type": "code",
      "source": [
        "print(data_inputs[0])"
      ],
      "metadata": {
        "colab": {
          "base_uri": "https://localhost:8080/"
        },
        "id": "N6x7psqwiHBC",
        "outputId": "5e24c464-6992-47ac-b623-32feefbf17dd"
      },
      "execution_count": 29,
      "outputs": [
        {
          "output_type": "stream",
          "name": "stdout",
          "text": [
            "['[CLS]', 'wit', '##pic', '.', 'com', 'y', 'z', '##l', 'aw', '##w', '##w', 'that', \"'\", 's', 'a', 'bum', '##mer', '.', 'you', 'should', '##a', 'got', 'david', 'carr', 'of', 'third', 'day', 'to', 'do', 'it', '.', 'd', '[SEP]']\n"
          ]
        }
      ]
    },
    {
      "cell_type": "code",
      "source": [
        "get_segments(data_inputs[0])"
      ],
      "metadata": {
        "colab": {
          "base_uri": "https://localhost:8080/"
        },
        "id": "hSbqKu9XiJOg",
        "outputId": "4666fad8-4a62-4dad-fb73-39592088b687"
      },
      "execution_count": 30,
      "outputs": [
        {
          "output_type": "execute_result",
          "data": {
            "text/plain": [
              "[0,\n",
              " 0,\n",
              " 0,\n",
              " 0,\n",
              " 0,\n",
              " 0,\n",
              " 0,\n",
              " 0,\n",
              " 0,\n",
              " 0,\n",
              " 0,\n",
              " 0,\n",
              " 0,\n",
              " 0,\n",
              " 0,\n",
              " 0,\n",
              " 0,\n",
              " 0,\n",
              " 0,\n",
              " 0,\n",
              " 0,\n",
              " 0,\n",
              " 0,\n",
              " 0,\n",
              " 0,\n",
              " 0,\n",
              " 0,\n",
              " 0,\n",
              " 0,\n",
              " 0,\n",
              " 0,\n",
              " 0,\n",
              " 0]"
            ]
          },
          "metadata": {},
          "execution_count": 30
        }
      ]
    },
    {
      "cell_type": "code",
      "source": [
        "my_sent = [\"[CLS]\"] + tokenizer.tokenize(\"Roses are red.\") + [\"[SEP]\"]\n",
        "my_sent"
      ],
      "metadata": {
        "colab": {
          "base_uri": "https://localhost:8080/"
        },
        "id": "IY-eAnXzicfB",
        "outputId": "5498a934-f35e-4a65-f137-5640bfa22faa"
      },
      "execution_count": 31,
      "outputs": [
        {
          "output_type": "execute_result",
          "data": {
            "text/plain": [
              "['[CLS]', 'roses', 'are', 'red', '.', '[SEP]']"
            ]
          },
          "metadata": {},
          "execution_count": 31
        }
      ]
    },
    {
      "cell_type": "code",
      "source": [
        "bert_layer([\n",
        "          tf.expand_dims(tf.cast(get_ids(my_sent), tf.int32), 0),\n",
        "          tf.expand_dims(tf.cast(get_mask(my_sent), tf.int32), 0),\n",
        "          tf.expand_dims(tf.cast(get_segments(my_sent), tf.int32), 0),\n",
        "          ])"
      ],
      "metadata": {
        "colab": {
          "base_uri": "https://localhost:8080/"
        },
        "id": "T0XCA9wcilUd",
        "outputId": "348486b0-ad0f-48fd-9648-335c723cf712"
      },
      "execution_count": 32,
      "outputs": [
        {
          "output_type": "execute_result",
          "data": {
            "text/plain": [
              "[<tf.Tensor: shape=(1, 768), dtype=float32, numpy=\n",
              " array([[-9.27935600e-01, -4.10335362e-01, -9.65754986e-01,\n",
              "          9.07317877e-01,  8.12913775e-01, -1.74174353e-01,\n",
              "          9.11234498e-01,  3.41952175e-01, -8.74521136e-01,\n",
              "         -9.99989271e-01, -7.78409779e-01,  9.69385147e-01,\n",
              "          9.86160576e-01,  6.36962950e-01,  9.48631287e-01,\n",
              "         -7.51193225e-01, -4.58339483e-01, -7.08104610e-01,\n",
              "          4.62098330e-01, -6.57927394e-01,  7.60414660e-01,\n",
              "          9.99994814e-01, -3.96860749e-01,  3.44166070e-01,\n",
              "          6.16488695e-01,  9.94400144e-01, -7.76633799e-01,\n",
              "          9.38316584e-01,  9.59452271e-01,  7.32879341e-01,\n",
              "         -6.93436742e-01,  2.93080479e-01, -9.93785441e-01,\n",
              "         -1.64551854e-01, -9.67019439e-01, -9.95549619e-01,\n",
              "          5.32935441e-01, -6.88061118e-01,  1.34714833e-02,\n",
              "          2.98193898e-02, -9.18356538e-01,  4.20526177e-01,\n",
              "          9.99988973e-01,  2.52676398e-01,  6.06235325e-01,\n",
              "         -3.50750268e-01, -1.00000000e+00,  4.97585446e-01,\n",
              "         -8.95187378e-01,  9.62560952e-01,  9.43730652e-01,\n",
              "          9.03285384e-01,  1.54699624e-01,  5.86143672e-01,\n",
              "          5.80860376e-01, -4.05052900e-01, -2.76641566e-02,\n",
              "          2.98045844e-01, -2.83075958e-01, -6.47424459e-01,\n",
              "         -6.51523709e-01,  5.43847382e-01, -9.56302106e-01,\n",
              "         -9.22750413e-01,  9.61462975e-01,  8.27475429e-01,\n",
              "         -3.50112528e-01, -4.06405658e-01, -8.74318033e-02,\n",
              "         -9.98740196e-02,  8.96688342e-01,  3.00931513e-01,\n",
              "         -1.51129171e-01, -8.52713525e-01,  8.09592366e-01,\n",
              "          4.00989264e-01, -6.61605775e-01,  1.00000000e+00,\n",
              "         -6.16246343e-01, -9.86407042e-01,  8.90942812e-01,\n",
              "          8.11157525e-01,  5.81394553e-01, -6.33872986e-01,\n",
              "          3.78197789e-01, -1.00000000e+00,  6.76351368e-01,\n",
              "         -2.30612591e-01, -9.92552578e-01,  3.85461181e-01,\n",
              "          6.57650769e-01, -2.90105700e-01,  4.46832210e-01,\n",
              "          6.28524065e-01, -5.58409095e-01, -6.65295064e-01,\n",
              "         -4.72272277e-01, -9.28039253e-01, -3.54472518e-01,\n",
              "         -6.19735956e-01,  1.24534965e-01, -3.48905593e-01,\n",
              "         -4.23184305e-01, -4.20834810e-01,  4.56588656e-01,\n",
              "         -6.14471018e-01, -5.15243351e-01,  5.01909792e-01,\n",
              "          4.29147184e-01,  7.59822071e-01,  4.37516451e-01,\n",
              "         -4.33598280e-01,  6.30961955e-01, -9.59743083e-01,\n",
              "          7.73877442e-01, -3.95738006e-01, -9.87354517e-01,\n",
              "         -6.73180103e-01, -9.92996395e-01,  7.77800143e-01,\n",
              "         -5.05856395e-01, -3.19990993e-01,  9.69388843e-01,\n",
              "         -3.51620167e-01,  3.79092038e-01, -2.21649483e-01,\n",
              "         -9.51505601e-01, -1.00000000e+00, -8.80426824e-01,\n",
              "         -8.34713042e-01, -2.77321488e-01, -4.70461220e-01,\n",
              "         -9.83711958e-01, -9.56730247e-01,  6.61121011e-01,\n",
              "          9.56025839e-01,  1.62189022e-01,  9.99961376e-01,\n",
              "         -5.11205912e-01,  9.59530532e-01, -5.58609903e-01,\n",
              "         -8.00221026e-01,  8.48543882e-01, -5.58320463e-01,\n",
              "          8.33738446e-01,  2.63149440e-01, -7.33846903e-01,\n",
              "          3.16189677e-01, -4.83306170e-01,  6.87450051e-01,\n",
              "         -7.94889808e-01, -3.81298214e-01, -8.71705949e-01,\n",
              "         -9.49488044e-01, -3.62460166e-01,  9.51175570e-01,\n",
              "         -7.62520552e-01, -9.61278081e-01, -1.53293744e-01,\n",
              "         -4.02463555e-01, -5.69815516e-01,  8.52475941e-01,\n",
              "          7.99817860e-01,  5.33586502e-01, -6.96546555e-01,\n",
              "          4.84272599e-01,  2.24440843e-01,  7.31195331e-01,\n",
              "         -8.18208158e-01, -3.58149260e-01,  5.32028496e-01,\n",
              "         -4.41676080e-01, -9.25720811e-01, -9.87607241e-01,\n",
              "         -5.07007778e-01,  5.31485617e-01,  9.93827164e-01,\n",
              "          7.66175270e-01,  4.12393183e-01,  8.83270144e-01,\n",
              "         -3.85666490e-01,  8.81850123e-01, -9.67345178e-01,\n",
              "          9.86407518e-01, -3.13535601e-01,  3.57363969e-01,\n",
              "         -6.57590330e-01,  2.70097405e-01, -8.59112978e-01,\n",
              "          2.32003823e-01,  8.62853050e-01, -9.03662264e-01,\n",
              "         -7.94610202e-01, -2.82699138e-01, -4.76583779e-01,\n",
              "         -5.01097381e-01, -8.80422235e-01,  5.45586228e-01,\n",
              "         -4.41977412e-01, -5.77728868e-01, -1.25810072e-01,\n",
              "          9.06031966e-01,  9.80562150e-01,  8.44253421e-01,\n",
              "          5.20119429e-01,  7.80579507e-01, -9.23414409e-01,\n",
              "         -5.87243676e-01,  2.34754562e-01,  2.97746867e-01,\n",
              "          3.54463816e-01,  9.96218681e-01, -8.01237583e-01,\n",
              "         -2.79998392e-01, -9.39948857e-01, -9.83751893e-01,\n",
              "          3.82994488e-02, -9.28821862e-01, -2.94137865e-01,\n",
              "         -7.00600803e-01,  7.67863870e-01, -3.51921976e-01,\n",
              "          6.57683909e-01,  5.54107130e-01, -9.90459323e-01,\n",
              "         -7.80434251e-01,  5.50272763e-01, -5.03932953e-01,\n",
              "          5.56852698e-01, -3.53224486e-01,  7.86349893e-01,\n",
              "          9.69607055e-01, -6.54102027e-01,  7.34232962e-01,\n",
              "          8.81996632e-01, -9.14772093e-01, -7.82534719e-01,\n",
              "          8.52741361e-01, -4.38667715e-01,  8.24172378e-01,\n",
              "         -7.77354658e-01,  9.91627097e-01,  9.48048472e-01,\n",
              "          7.74401665e-01, -9.52811897e-01, -7.52400279e-01,\n",
              "         -8.65391254e-01, -8.10665190e-01, -1.91085383e-01,\n",
              "          6.22545630e-02,  9.39342737e-01,  6.60154998e-01,\n",
              "          5.10393083e-01,  3.03855240e-01, -7.58786082e-01,\n",
              "          9.97947156e-01, -8.39390576e-01, -9.73821759e-01,\n",
              "         -6.96807921e-01, -4.71226066e-01, -9.92139935e-01,\n",
              "          9.27336872e-01,  3.11118245e-01,  6.17148399e-01,\n",
              "         -5.93245387e-01, -7.30744183e-01, -9.74081159e-01,\n",
              "          9.14184093e-01,  2.35106990e-01,  9.90232766e-01,\n",
              "         -4.98075664e-01, -9.59739506e-01, -7.62371123e-01,\n",
              "         -9.30913389e-01, -4.32067961e-02, -2.13116318e-01,\n",
              "         -6.06085062e-01, -2.81607956e-02, -9.69718456e-01,\n",
              "          6.36244237e-01,  6.35316372e-01,  5.37905633e-01,\n",
              "         -8.91036153e-01,  9.99303162e-01,  1.00000000e+00,\n",
              "          9.73003805e-01,  9.01396930e-01,  8.87466669e-01,\n",
              "         -9.99958754e-01, -6.90021932e-01,  9.99998033e-01,\n",
              "         -9.93730605e-01, -1.00000000e+00, -9.37510908e-01,\n",
              "         -8.12253177e-01,  2.70661205e-01, -1.00000000e+00,\n",
              "         -2.87079066e-01, -1.50920168e-01, -9.31140304e-01,\n",
              "          8.18554997e-01,  9.78329062e-01,  9.94965553e-01,\n",
              "         -1.00000000e+00,  8.81453693e-01,  9.30843115e-01,\n",
              "         -7.06026733e-01,  9.76767123e-01, -6.08330011e-01,\n",
              "          9.75543499e-01,  5.93019426e-01,  5.54319203e-01,\n",
              "         -2.44307280e-01,  4.22843695e-01, -9.68066275e-01,\n",
              "         -9.14158463e-01, -7.75702596e-01, -7.79753447e-01,\n",
              "          9.98873353e-01,  2.67525733e-01, -7.70681024e-01,\n",
              "         -9.30970371e-01,  6.98258162e-01, -1.79436117e-01,\n",
              "          1.48644581e-01, -9.69404280e-01, -3.27199757e-01,\n",
              "          7.69222438e-01,  8.38437378e-01,  2.74363279e-01,\n",
              "          4.46673691e-01, -6.88233912e-01,  4.38525349e-01,\n",
              "         -6.96207434e-02,  2.83885628e-01,  6.96684837e-01,\n",
              "         -9.55272734e-01, -5.49684584e-01, -3.89561355e-01,\n",
              "          3.75222564e-01, -7.64761984e-01, -9.54122961e-01,\n",
              "          9.69721258e-01, -4.86066818e-01,  9.72205639e-01,\n",
              "          1.00000000e+00,  7.64813423e-01, -9.13303673e-01,\n",
              "          6.57082558e-01,  4.31852102e-01, -7.01079190e-01,\n",
              "          1.00000000e+00,  8.67337108e-01, -9.83669579e-01,\n",
              "         -5.84471703e-01,  7.79540896e-01, -6.77890062e-01,\n",
              "         -7.74523914e-01,  9.99660969e-01, -3.41093123e-01,\n",
              "         -8.14479649e-01, -6.48069024e-01,  9.86273110e-01,\n",
              "         -9.94089186e-01,  9.97643113e-01, -8.94537747e-01,\n",
              "         -9.79997158e-01,  9.60477769e-01,  9.49231923e-01,\n",
              "         -6.83828115e-01, -7.17898786e-01,  2.86706805e-01,\n",
              "         -7.60040939e-01,  4.78332311e-01, -9.51963365e-01,\n",
              "          8.08321238e-01,  5.27614176e-01, -1.67665765e-01,\n",
              "          9.16268110e-01, -8.87899041e-01, -5.93430936e-01,\n",
              "          3.90307993e-01, -7.76923180e-01, -3.84818375e-01,\n",
              "          9.59038138e-01,  6.78381324e-01, -4.08702850e-01,\n",
              "         -1.99678987e-02, -4.68428612e-01, -7.41143048e-01,\n",
              "         -9.73734498e-01,  6.23253822e-01,  1.00000000e+00,\n",
              "         -4.31855291e-01,  8.94348621e-01, -5.72569311e-01,\n",
              "         -1.89501755e-02,  7.24834204e-02,  6.05421424e-01,\n",
              "          5.64564109e-01, -5.04034936e-01, -8.33653152e-01,\n",
              "          9.20378506e-01, -9.70664859e-01, -9.92627203e-01,\n",
              "          8.63119483e-01,  2.32818350e-01, -3.05338532e-01,\n",
              "          9.99999225e-01,  6.51024401e-01,  3.69558871e-01,\n",
              "          5.16951680e-01,  9.89937425e-01, -5.10574952e-02,\n",
              "          5.19780934e-01,  9.13519442e-01,  9.89344239e-01,\n",
              "         -4.06514168e-01,  6.72227442e-01,  8.66246164e-01,\n",
              "         -9.63320732e-01, -3.93905371e-01, -7.32534230e-01,\n",
              "          6.66501299e-02, -9.50429082e-01,  5.36764041e-02,\n",
              "         -9.64523613e-01,  9.78591144e-01,  9.72525120e-01,\n",
              "          5.02412915e-01,  3.42612833e-01,  8.20066929e-01,\n",
              "          1.00000000e+00, -8.37067425e-01,  5.97411513e-01,\n",
              "         -4.17202204e-01,  8.81286085e-01, -9.99911070e-01,\n",
              "         -8.37778151e-01, -4.66962218e-01, -2.72496670e-01,\n",
              "         -9.03814375e-01, -4.58637834e-01,  3.91833514e-01,\n",
              "         -9.79059279e-01,  9.10196245e-01,  8.29555333e-01,\n",
              "         -9.92893636e-01, -9.93933380e-01, -5.58821321e-01,\n",
              "          7.86012173e-01,  2.98600912e-01, -9.94314551e-01,\n",
              "         -8.16725373e-01, -6.58432007e-01,  9.07821834e-01,\n",
              "         -4.84595984e-01, -9.59578753e-01, -5.24700582e-01,\n",
              "         -4.26523179e-01,  5.39447427e-01, -3.51429582e-01,\n",
              "          6.03987813e-01,  8.84236515e-01,  6.91960514e-01,\n",
              "         -7.73553550e-01, -3.49986702e-01, -1.82106122e-01,\n",
              "         -8.09592545e-01,  9.06841457e-01, -8.09706271e-01,\n",
              "         -9.76247609e-01, -2.70705551e-01,  1.00000000e+00,\n",
              "         -5.54332733e-01,  8.93760264e-01,  7.55229771e-01,\n",
              "          7.80316412e-01, -1.99225411e-01,  3.35151166e-01,\n",
              "          9.55944061e-01,  3.82269740e-01, -7.57196605e-01,\n",
              "         -9.39319909e-01, -6.35581791e-01, -6.07329130e-01,\n",
              "          7.00571895e-01,  7.23613024e-01,  7.29011118e-01,\n",
              "          8.65883648e-01,  7.64537394e-01,  2.08821088e-01,\n",
              "         -6.98528290e-02, -5.64178743e-04,  9.99799311e-01,\n",
              "         -4.44100142e-01, -1.80671528e-01, -4.89859760e-01,\n",
              "         -2.91431338e-01, -4.25409138e-01, -1.98750049e-01,\n",
              "          1.00000000e+00,  3.56602043e-01,  7.75661409e-01,\n",
              "         -9.93823767e-01, -9.28070962e-01, -9.31738615e-01,\n",
              "          1.00000000e+00,  8.50040436e-01, -7.60715961e-01,\n",
              "          7.18036532e-01,  7.75468946e-01, -1.75161973e-01,\n",
              "          8.09469342e-01, -3.36547792e-01, -3.02385300e-01,\n",
              "          4.57467884e-01,  3.08043808e-01,  9.70232069e-01,\n",
              "         -6.18903935e-01, -9.75721240e-01, -5.94948888e-01,\n",
              "          5.63390851e-01, -9.66651082e-01,  9.99981284e-01,\n",
              "         -6.10340416e-01, -3.60575050e-01, -4.96435821e-01,\n",
              "         -4.91436243e-01,  4.47817951e-01,  2.87387762e-02,\n",
              "         -9.83154833e-01, -3.47387284e-01,  3.09110731e-01,\n",
              "          9.66638863e-01,  3.75864029e-01, -6.41106486e-01,\n",
              "         -8.90264928e-01,  8.92269194e-01,  8.31999958e-01,\n",
              "         -9.59132016e-01, -9.57766473e-01,  9.71166372e-01,\n",
              "         -9.84971225e-01,  7.67819285e-01,  1.00000000e+00,\n",
              "          3.83998752e-01,  4.38051015e-01,  3.52292418e-01,\n",
              "         -4.46136504e-01,  4.46569294e-01, -6.90631390e-01,\n",
              "          6.74425602e-01, -9.59155858e-01, -4.53285098e-01,\n",
              "         -2.96152771e-01,  3.57684553e-01, -2.41154611e-01,\n",
              "         -5.88313401e-01,  7.63308346e-01,  3.13667417e-01,\n",
              "         -6.03100479e-01, -6.84795618e-01, -2.60147303e-01,\n",
              "          5.75160265e-01,  9.16844189e-01, -3.56800288e-01,\n",
              "         -2.31557772e-01,  1.15727842e-01, -1.77119032e-01,\n",
              "         -9.47563648e-01, -5.23142040e-01, -6.04617834e-01,\n",
              "         -9.99998629e-01,  5.41667819e-01, -1.00000000e+00,\n",
              "          6.60002053e-01,  3.39036584e-01, -2.57962257e-01,\n",
              "          8.98434043e-01,  3.58503699e-01,  7.80091882e-01,\n",
              "         -8.63456190e-01, -9.04243648e-01,  2.35174045e-01,\n",
              "          8.47542286e-01, -4.83704925e-01, -7.76437223e-01,\n",
              "         -7.77086914e-01,  4.51546907e-01, -1.20644137e-01,\n",
              "          3.45337898e-01, -7.58304536e-01,  7.38663554e-01,\n",
              "         -2.54878372e-01,  1.00000000e+00,  1.56726703e-01,\n",
              "         -6.47172809e-01, -9.80846465e-01,  3.21544915e-01,\n",
              "         -3.49479944e-01,  1.00000000e+00, -8.88086319e-01,\n",
              "         -9.70758736e-01,  4.17613953e-01, -6.59506500e-01,\n",
              "         -8.39061737e-01,  4.56445932e-01,  7.08390847e-02,\n",
              "         -8.59648883e-01, -9.68725741e-01,  9.56584036e-01,\n",
              "          8.95311117e-01, -6.79162443e-01,  7.91996181e-01,\n",
              "         -3.77204925e-01, -5.99682510e-01,  1.89219326e-01,\n",
              "          9.34770346e-01,  9.87944543e-01,  7.07965016e-01,\n",
              "          9.21087801e-01, -1.59540147e-01, -4.83467579e-01,\n",
              "          9.76640582e-01,  2.95252174e-01,  5.32053649e-01,\n",
              "          3.22658092e-01,  1.00000000e+00,  4.97991681e-01,\n",
              "         -9.31000769e-01, -3.24744493e-01, -9.82841730e-01,\n",
              "         -2.67996281e-01, -9.52166140e-01,  4.53916758e-01,\n",
              "          3.94372314e-01,  9.26190317e-01, -3.09752196e-01,\n",
              "          9.69366431e-01, -9.40263689e-01,  1.66798517e-01,\n",
              "         -8.32233071e-01, -7.04410851e-01,  5.49370348e-01,\n",
              "         -9.30373490e-01, -9.88702476e-01, -9.91572320e-01,\n",
              "          7.38682747e-01, -5.26327252e-01, -9.29533392e-02,\n",
              "          2.77956009e-01,  2.54385740e-01,  5.55893004e-01,\n",
              "          5.70780456e-01, -1.00000000e+00,  9.51999545e-01,\n",
              "          5.82980931e-01,  9.13393974e-01,  9.78624403e-01,\n",
              "          7.49032140e-01,  7.39971757e-01,  3.71186435e-01,\n",
              "         -9.89660740e-01, -9.84848619e-01, -5.31397939e-01,\n",
              "         -3.88979465e-01,  8.49413812e-01,  8.17017078e-01,\n",
              "          8.92696917e-01,  6.16892159e-01, -5.75284481e-01,\n",
              "         -2.86467373e-01, -7.60570526e-01, -7.78939366e-01,\n",
              "         -9.94441748e-01,  5.72188199e-01, -7.72194922e-01,\n",
              "         -9.57696319e-01,  9.67420697e-01, -2.17978746e-01,\n",
              "         -1.75552845e-01, -3.26557219e-01, -9.06777859e-01,\n",
              "          9.35597599e-01,  7.66239703e-01,  1.90596446e-01,\n",
              "          1.53928861e-01,  5.40217578e-01,  9.02483582e-01,\n",
              "          9.40388978e-01,  9.88884807e-01, -9.10143912e-01,\n",
              "          7.88360000e-01, -8.31382930e-01,  6.11195385e-01,\n",
              "          8.21668923e-01, -9.41967785e-01,  3.75133187e-01,\n",
              "          5.49405754e-01, -6.15318537e-01,  3.91501874e-01,\n",
              "         -3.66627157e-01, -9.74752426e-01,  8.88878047e-01,\n",
              "         -3.62838179e-01,  6.53205752e-01, -5.35070002e-01,\n",
              "         -2.21282244e-02, -4.40158129e-01, -3.87567252e-01,\n",
              "         -7.89354980e-01, -6.70902669e-01,  6.87369943e-01,\n",
              "          4.34680045e-01,  9.07511055e-01,  9.13954020e-01,\n",
              "         -1.07544959e-01, -8.54991853e-01, -3.22966009e-01,\n",
              "         -7.80992568e-01, -9.35075462e-01,  9.56621170e-01,\n",
              "         -2.46967360e-01, -1.84675977e-01,  7.18141794e-01,\n",
              "          1.66834086e-01,  9.54272509e-01,  5.20279288e-01,\n",
              "         -5.11346579e-01, -3.58430564e-01, -7.76734591e-01,\n",
              "          9.01379108e-01, -6.45810127e-01, -6.68203235e-01,\n",
              "         -6.79575741e-01,  8.30889344e-01,  4.56940055e-01,\n",
              "          9.99998212e-01, -8.61587346e-01, -9.52708542e-01,\n",
              "         -5.74054837e-01, -4.75623518e-01,  5.11585891e-01,\n",
              "         -7.02607334e-01, -1.00000000e+00,  5.05624473e-01,\n",
              "         -6.52045906e-01,  8.13730657e-01, -8.72139096e-01,\n",
              "          8.09319794e-01, -8.18221927e-01, -9.88196373e-01,\n",
              "         -4.00082380e-01,  3.38945806e-01,  7.67013550e-01,\n",
              "         -5.16352892e-01, -8.75940859e-01,  6.15952075e-01,\n",
              "         -7.52709627e-01,  9.89328444e-01,  8.95710766e-01,\n",
              "         -6.14250124e-01,  2.19650000e-01,  7.52754211e-01,\n",
              "         -8.20389688e-01, -8.05691302e-01,  9.38039362e-01]], dtype=float32)>,\n",
              " <tf.Tensor: shape=(1, 6, 768), dtype=float32, numpy=\n",
              " array([[[-0.07947472,  0.00580762, -0.31414002, ..., -0.4509729 ,\n",
              "           0.29333174,  0.23387676],\n",
              "         [ 0.39315987,  0.5033629 ,  0.24021392, ..., -0.32635602,\n",
              "           0.3498608 ,  0.20673233],\n",
              "         [ 0.35789236,  0.10767157, -0.04988848, ..., -0.50822747,\n",
              "           0.2504879 , -0.26268777],\n",
              "         [-0.29892233, -0.24708791,  0.0715151 , ..., -0.33810017,\n",
              "           0.12699501, -0.09681887],\n",
              "         [-0.36815387, -0.7146524 , -0.21032578, ...,  0.35395133,\n",
              "           0.33438605, -0.6233473 ],\n",
              "         [ 0.88692236, -0.1699696 , -0.2917365 , ...,  0.05816516,\n",
              "          -0.5775993 , -0.32075307]]], dtype=float32)>]"
            ]
          },
          "metadata": {},
          "execution_count": 32
        }
      ]
    },
    {
      "cell_type": "code",
      "source": [
        "data_with_len = [[sent, data_labels[i], len(sent)]\n",
        "                 for i, sent in enumerate(data_inputs)]\n",
        "random.shuffle(data_with_len)\n",
        "data_with_len.sort(key = lambda x: x[2])\n",
        "sorted_all = [([get_ids(sent_lab[0]),\n",
        "               get_mask(sent_lab[0]),\n",
        "               get_segments(sent_lab[0])],\n",
        "              sent_lab[1])\n",
        "              for sent_lab in data_with_len if sent_lab[2] > 7]"
      ],
      "metadata": {
        "id": "OrAEUBYLlxUX"
      },
      "execution_count": 34,
      "outputs": []
    },
    {
      "cell_type": "code",
      "source": [
        "all_dataset = tf.data.Dataset.from_generator(lambda: sorted_all, output_types = (tf.int32, tf.int32))"
      ],
      "metadata": {
        "id": "irY2yetzc57-"
      },
      "execution_count": 35,
      "outputs": []
    },
    {
      "cell_type": "code",
      "source": [
        "BATCH_SIZE = 32\n",
        "all_batched = all_dataset.padded_batch(BATCH_SIZE, padded_shapes = ((3, None), ()),\n",
        "                                     padding_values = (0, 0))"
      ],
      "metadata": {
        "id": "iXC4GO0ReOlv"
      },
      "execution_count": 38,
      "outputs": []
    },
    {
      "cell_type": "code",
      "source": [
        "NB_BATCHES = len(sorted_all) // BATCH_SIZE\n",
        "NB_BATCHES_TEST = NB_BATCHES // 10\n",
        "all_batched.shuffle(NB_BATCHES)\n",
        "test_dataset = all_batched.take(NB_BATCHES_TEST)\n",
        "train_dataset = all_batched.skip(NB_BATCHES_TEST)"
      ],
      "metadata": {
        "id": "bBtkQzHRej-s"
      },
      "execution_count": 39,
      "outputs": []
    },
    {
      "cell_type": "markdown",
      "source": [
        "# Etapa 3: Construção do modelo"
      ],
      "metadata": {
        "id": "Bv9bKTgLmRQS"
      }
    },
    {
      "cell_type": "code",
      "source": [
        "class DCNNBERTEmbedding(tf.keras.Model):\n",
        "\n",
        "  def __init__(self,\n",
        "               nb_filters = 50,\n",
        "               FFN_units = 512,\n",
        "               nb_classes = 2,\n",
        "               dropout_rate = 0.1,\n",
        "               name = 'dcnn'):\n",
        "    super(DCNNBERTEmbedding, self).__init__(name=name)\n",
        "\n",
        "    self.bert_layer = hub.KerasLayer('https://tfhub.dev/tensorflow/bert_en_uncased_L-12_H-768_A-12/1',\n",
        "                                     trainable = False)\n",
        "\n",
        "    self.bigram = layers.Conv1D(filters = nb_filters,\n",
        "                                kernel_size = 2,\n",
        "                                padding = 'valid',\n",
        "                                activation = 'relu')\n",
        "    self.trigram = layers.Conv1D(filters = nb_filters,\n",
        "                                kernel_size = 3,\n",
        "                                padding = 'valid',\n",
        "                                activation = 'relu')\n",
        "    self.fourgram = layers.Conv1D(filters = nb_filters,\n",
        "                                kernel_size = 4,\n",
        "                                padding = 'valid',\n",
        "                                activation = 'relu')\n",
        "    self.pool = layers.GlobalMaxPool1D()\n",
        "    self.dense_1 = layers.Dense(units = FFN_units, activation = 'relu')\n",
        "    self.dropout = layers.Dropout(rate = dropout_rate)\n",
        "    if nb_classes == 2:\n",
        "      self.last_dense = layers.Dense(units = 1, activation = 'sigmoid')\n",
        "    else:\n",
        "      self.last_dense = layers.Dense(units = nb_classes, activation = 'softmax')\n",
        "\n",
        "  def embed_with_bert(self, all_tokens):\n",
        "    _, embs = self.bert_layer([all_tokens[:, 0, :],\n",
        "                                all_tokens[:, 1, :],\n",
        "                                all_tokens[:, 2, :]])\n",
        "\n",
        "    return embs\n",
        "\n",
        "  def call(self, inputs, training):\n",
        "    x = self.embed_with_bert(inputs)\n",
        "    x_1 = self.bigram(x)\n",
        "    x_1 = self.pool(x_1)\n",
        "    x_2 = self.trigram(x)\n",
        "    x_2 = self.pool(x_2)\n",
        "    x_3 = self.fourgram(x)\n",
        "    x_3 = self.pool(x_3)\n",
        "\n",
        "    merged = tf.concat([x_1, x_2, x_3], axis = -1)\n",
        "    merged = self.dense_1(merged)\n",
        "    merged = self.dropout(merged, training)\n",
        "    output = self.last_dense(merged)\n",
        "\n",
        "    return output"
      ],
      "metadata": {
        "id": "GydYU8TRfO1P"
      },
      "execution_count": 50,
      "outputs": []
    },
    {
      "cell_type": "markdown",
      "source": [
        "# Etapa 4: Treinamento"
      ],
      "metadata": {
        "id": "4fAB7v_ArQhe"
      }
    },
    {
      "cell_type": "code",
      "source": [
        "NB_FILTERS = 100\n",
        "FFN_UNITS = 256\n",
        "NB_CLASSES = 2\n",
        "DROPOUT_RATE = 0.2\n",
        "BATCH_SIZE = 32\n",
        "NB_EPOCHS = 5"
      ],
      "metadata": {
        "id": "aldZvy18pyWH"
      },
      "execution_count": 51,
      "outputs": []
    },
    {
      "cell_type": "code",
      "source": [
        "Dcnn = DCNNBERTEmbedding(nb_filters = NB_FILTERS,\n",
        "                         FFN_units = FFN_UNITS,\n",
        "                         nb_classes = NB_CLASSES,\n",
        "                         dropout_rate = DROPOUT_RATE)"
      ],
      "metadata": {
        "id": "x-b-yMzCriUd"
      },
      "execution_count": 52,
      "outputs": []
    },
    {
      "cell_type": "code",
      "source": [
        "if NB_CLASSES == 2:\n",
        "  Dcnn.compile(loss =  'binary_crossentropy', optimizer =  'adam', metrics = ['accuracy'])\n",
        "else:\n",
        "  Dcnn.compile(loss = 'sparse_categorical_crossentropy', optimizer = 'adam', metrics = ['sparse_categorical_accuracy'])"
      ],
      "metadata": {
        "id": "UWoK5ZuTr19I"
      },
      "execution_count": 53,
      "outputs": []
    },
    {
      "cell_type": "code",
      "source": [
        "checkpoint_path = \"/content/drive/MyDrive/NLP/Bert/arquivo/Embedding\"\n",
        "\n",
        "ckpt = tf.train.Checkpoint(Dcnn = Dcnn)\n",
        "\n",
        "ckpt_manager = tf.train.CheckpointManager(ckpt, checkpoint_path, max_to_keep=1)\n",
        "\n",
        "if ckpt_manager.latest_checkpoint:\n",
        "  ckpt.restore(ckpt_manager.latest_checkpoint)\n",
        "  print('Latest checkpoint restored!')"
      ],
      "metadata": {
        "id": "_yC0lHOlsfcp"
      },
      "execution_count": 54,
      "outputs": []
    },
    {
      "cell_type": "code",
      "source": [
        "class MyCustomCallback(tf.keras.callbacks.Callback):\n",
        "\n",
        "  def on_epoch_end(self, epoch, logs = None):\n",
        "    ckpt_manager.save()\n",
        "    print(f'Checkpoint saved at {checkpoint_path}.')"
      ],
      "metadata": {
        "id": "jAIVTIGVtmYE"
      },
      "execution_count": 55,
      "outputs": []
    },
    {
      "cell_type": "code",
      "source": [
        "history = Dcnn.fit(train_dataset,\n",
        "                   epochs=NB_EPOCHS,\n",
        "                   steps_per_epoch = 500,\n",
        "                   callbacks=[MyCustomCallback()])"
      ],
      "metadata": {
        "colab": {
          "base_uri": "https://localhost:8080/"
        },
        "id": "eZ5oFWeXuD6o",
        "outputId": "879c6c67-c5e6-423b-fd3f-d55b76974cd3"
      },
      "execution_count": 57,
      "outputs": [
        {
          "output_type": "stream",
          "name": "stdout",
          "text": [
            "Epoch 1/5\n",
            "499/500 [============================>.] - ETA: 0s - loss: 0.4540 - accuracy: 0.7936Checkpoint saved at /content/drive/MyDrive/NLP/Bert/arquivo/Embedding.\n",
            "500/500 [==============================] - 48s 45ms/step - loss: 0.4544 - accuracy: 0.7934\n",
            "Epoch 2/5\n",
            "500/500 [==============================] - ETA: 0s - loss: 0.3906 - accuracy: 0.8287Checkpoint saved at /content/drive/MyDrive/NLP/Bert/arquivo/Embedding.\n",
            "500/500 [==============================] - 24s 47ms/step - loss: 0.3906 - accuracy: 0.8287\n",
            "Epoch 3/5\n",
            "499/500 [============================>.] - ETA: 0s - loss: 0.3943 - accuracy: 0.8253Checkpoint saved at /content/drive/MyDrive/NLP/Bert/arquivo/Embedding.\n",
            "500/500 [==============================] - 25s 50ms/step - loss: 0.3943 - accuracy: 0.8254\n",
            "Epoch 4/5\n",
            "500/500 [==============================] - ETA: 0s - loss: 0.3914 - accuracy: 0.8292Checkpoint saved at /content/drive/MyDrive/NLP/Bert/arquivo/Embedding.\n",
            "500/500 [==============================] - 20s 40ms/step - loss: 0.3914 - accuracy: 0.8292\n",
            "Epoch 5/5\n",
            "499/500 [============================>.] - ETA: 0s - loss: 0.3779 - accuracy: 0.8357Checkpoint saved at /content/drive/MyDrive/NLP/Bert/arquivo/Embedding.\n",
            "500/500 [==============================] - 20s 40ms/step - loss: 0.3777 - accuracy: 0.8359\n"
          ]
        }
      ]
    },
    {
      "cell_type": "markdown",
      "source": [
        "# Etapa 5: Avaliação do modelo"
      ],
      "metadata": {
        "id": "cxNtC8DKxQQf"
      }
    },
    {
      "cell_type": "code",
      "source": [
        "results = Dcnn.evaluate(test_dataset)\n",
        "print(results)"
      ],
      "metadata": {
        "colab": {
          "base_uri": "https://localhost:8080/"
        },
        "id": "OXQePyD8xPYh",
        "outputId": "00681571-78e8-4324-b3be-96f638681e45"
      },
      "execution_count": 58,
      "outputs": [
        {
          "output_type": "stream",
          "name": "stdout",
          "text": [
            "4537/4537 [==============================] - 120s 26ms/step - loss: 0.3607 - accuracy: 0.8428\n",
            "[0.3606535494327545, 0.8427512645721436]\n"
          ]
        }
      ]
    },
    {
      "cell_type": "code",
      "source": [
        "def get_prediction(sentence):\n",
        "  tokens = encode_sentence(sentence)\n",
        "\n",
        "  input_ids = get_ids(tokens)\n",
        "  input_mask = get_mask(tokens)\n",
        "  segment_ids = get_segments(tokens)\n",
        "\n",
        "  inputs = tf.stack(\n",
        "      [\n",
        "       tf.cast(input_ids, dtype=tf.int32),\n",
        "       tf.cast(input_mask, dtype=tf.int32),\n",
        "       tf.cast(segment_ids, dtype=tf.int32),\n",
        "      ], axis = 0)\n",
        "  inputs = tf.expand_dims(inputs, 0)\n",
        "\n",
        "  output = Dcnn(inputs, training=False)\n",
        "\n",
        "  sentiment = math.floor(output*2)\n",
        "\n",
        "  if sentiment == 0:\n",
        "    print(\"Output of the model: {}\\nPredicted sentiment: negative\".format(output))\n",
        "  elif sentiment == 1:\n",
        "    print(\"Output of the model: {}\\nPredicted sentiment: positive\".format(output))"
      ],
      "metadata": {
        "id": "53ZcYtfWxVcR"
      },
      "execution_count": 59,
      "outputs": []
    },
    {
      "cell_type": "code",
      "source": [
        "get_prediction(\"This actor is very bad.\")"
      ],
      "metadata": {
        "colab": {
          "base_uri": "https://localhost:8080/"
        },
        "id": "zm9jB83lxZT2",
        "outputId": "a82c076c-2d29-4351-9fd8-0a6f4cf87f35"
      },
      "execution_count": 60,
      "outputs": [
        {
          "output_type": "stream",
          "name": "stdout",
          "text": [
            "Output of the model: [[0.04972439]]\n",
            "Predicted sentiment: negative\n"
          ]
        }
      ]
    },
    {
      "cell_type": "code",
      "source": [
        "get_prediction(\"I like dogs.\")"
      ],
      "metadata": {
        "colab": {
          "base_uri": "https://localhost:8080/"
        },
        "id": "RqTz7_dtxb3s",
        "outputId": "7aac6324-2049-4929-8560-b474335fed40"
      },
      "execution_count": 61,
      "outputs": [
        {
          "output_type": "stream",
          "name": "stdout",
          "text": [
            "Output of the model: [[0.9490403]]\n",
            "Predicted sentiment: positive\n"
          ]
        }
      ]
    }
  ]
}